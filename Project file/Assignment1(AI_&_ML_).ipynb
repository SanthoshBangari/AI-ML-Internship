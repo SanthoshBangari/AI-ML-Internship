{
  "nbformat": 4,
  "nbformat_minor": 0,
  "metadata": {
    "colab": {
      "provenance": []
    },
    "kernelspec": {
      "name": "python3",
      "display_name": "Python 3"
    },
    "language_info": {
      "name": "python"
    }
  },
  "cells": [
    {
      "cell_type": "markdown",
      "source": [
        "# Assigment 1"
      ],
      "metadata": {
        "id": "w6BIqqGk1RFP"
      }
    },
    {
      "cell_type": "code",
      "source": [
        "\n",
        "#Task 1--\n",
        "a=[1,2,3,4,5,6]\n",
        "b=[7,8,9,6]\n",
        "a+b"
      ],
      "metadata": {
        "id": "xeRdVduMB8xi",
        "colab": {
          "base_uri": "https://localhost:8080/"
        },
        "outputId": "4a3b6c18-91cf-4b38-9dfd-ae26cb5df4ee"
      },
      "execution_count": null,
      "outputs": [
        {
          "output_type": "execute_result",
          "data": {
            "text/plain": [
              "[1, 2, 3, 4, 5, 6, 7, 8, 9, 6]"
            ]
          },
          "metadata": {},
          "execution_count": 10
        }
      ]
    },
    {
      "cell_type": "code",
      "source": [
        "#Task 2--\n",
        "\n",
        "num= int(input(\"Enter your number: \"))\n",
        "if (num%2) == 0:\n",
        "  print(\"{0} is Even\".format(num))\n",
        "else:\n",
        "    print(\" is odd\".format(num))\n"
      ],
      "metadata": {
        "id": "VxVUFq_9B89Q",
        "colab": {
          "base_uri": "https://localhost:8080/"
        },
        "outputId": "97955f7b-db06-44b5-fabb-ba196e646222"
      },
      "execution_count": null,
      "outputs": [
        {
          "output_type": "stream",
          "name": "stdout",
          "text": [
            "Enter your number: 7\n",
            " is odd\n"
          ]
        }
      ]
    },
    {
      "cell_type": "code",
      "source": [
        "#Task 3--\n",
        "d1 = {'S.no':[1,2,3],'Name':['Santhosh','Kalyan','David'],'Rollno':[9,8,11]}\n",
        "d1\n"
      ],
      "metadata": {
        "id": "8-BQJC7NB8_-",
        "colab": {
          "base_uri": "https://localhost:8080/"
        },
        "outputId": "1ac64565-fde9-49ba-fa19-dab663877881"
      },
      "execution_count": null,
      "outputs": [
        {
          "output_type": "execute_result",
          "data": {
            "text/plain": [
              "{'S.no': [1, 2, 3],\n",
              " 'Name': ['Santhosh', 'Kalyan', 'David'],\n",
              " 'Rollno': [9, 8, 11]}"
            ]
          },
          "metadata": {},
          "execution_count": 13
        }
      ]
    },
    {
      "cell_type": "code",
      "source": [
        "#Task 4--\n",
        "def find_odd_numbers(start, end):\n",
        "    for num in range(start, end + 1):\n",
        "        if num % 2 != 0:\n",
        "            print(num)\n",
        "\n",
        "find_odd_numbers(1, 10)\n"
      ],
      "metadata": {
        "id": "BsWkDMxmB9DH",
        "colab": {
          "base_uri": "https://localhost:8080/"
        },
        "outputId": "963b10ce-d2c1-412e-8ccb-25a4a10b5760"
      },
      "execution_count": null,
      "outputs": [
        {
          "output_type": "stream",
          "name": "stdout",
          "text": [
            "1\n",
            "3\n",
            "5\n",
            "7\n",
            "9\n"
          ]
        }
      ]
    },
    {
      "cell_type": "code",
      "source": [
        "#Task 5--\n",
        "def sum_of_num(num):\n",
        "    total = 0\n",
        "    for x in num:\n",
        "        total = total+x\n",
        "    return total\n",
        "\n",
        "num = [23,35,56,78]\n",
        "print(num)\n",
        "print(\"Sum of numbers:\", sum_of_num(num))"
      ],
      "metadata": {
        "id": "vWw0Am5WB9F0",
        "colab": {
          "base_uri": "https://localhost:8080/"
        },
        "outputId": "f94b3a39-b457-44da-8020-bff0810fc61d"
      },
      "execution_count": null,
      "outputs": [
        {
          "output_type": "stream",
          "name": "stdout",
          "text": [
            "[23, 35, 56, 78]\n",
            "Sum of numbers: 192\n"
          ]
        }
      ]
    },
    {
      "cell_type": "code",
      "source": [],
      "metadata": {
        "id": "k9YeWyGAB9Iq"
      },
      "execution_count": null,
      "outputs": []
    },
    {
      "cell_type": "code",
      "source": [],
      "metadata": {
        "id": "HpjlduwnB9LT"
      },
      "execution_count": null,
      "outputs": []
    },
    {
      "cell_type": "code",
      "source": [],
      "metadata": {
        "id": "4ap-O53wB9Oz"
      },
      "execution_count": null,
      "outputs": []
    }
  ]
}